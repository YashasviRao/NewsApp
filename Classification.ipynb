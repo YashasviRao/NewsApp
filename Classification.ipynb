{
  "nbformat": 4,
  "nbformat_minor": 0,
  "metadata": {
    "colab": {
      "provenance": []
    },
    "kernelspec": {
      "name": "python3",
      "display_name": "Python 3"
    },
    "language_info": {
      "name": "python"
    }
  },
  "cells": [
    {
      "cell_type": "markdown",
      "source": [
        "# **CLASSIFICATION**"
      ],
      "metadata": {
        "id": "05icvPHMhLjo"
      }
    },
    {
      "cell_type": "markdown",
      "metadata": {
        "id": "NEx3mpg8Rlrx"
      },
      "source": [
        "\n",
        "*Classification of News articles into Categories*\n",
        "\n",
        "\n",
        "Contributor Details\n",
        "\n",
        "---\n",
        "\n",
        "\n",
        "- Deeksha Spoorthi Sammidi \n",
        "- SJSU ID: 016626753\n",
        "- Team 10 - Application Track\n"
      ]
    },
    {
      "cell_type": "markdown",
      "source": [
        "# Importing Necessary Libraries"
      ],
      "metadata": {
        "id": "CBNc_sCHAbax"
      }
    },
    {
      "cell_type": "markdown",
      "source": [
        "Importing necessary libraries for the classification algorithms and models that are we are intending to use"
      ],
      "metadata": {
        "id": "N6mkYQ9Meuid"
      }
    },
    {
      "cell_type": "code",
      "execution_count": null,
      "metadata": {
        "id": "_vMeSZH8W7UZ",
        "colab": {
          "base_uri": "https://localhost:8080/"
        },
        "outputId": "c21e54e0-6bf9-4015-83e7-b56c932614bc"
      },
      "outputs": [
        {
          "output_type": "stream",
          "name": "stderr",
          "text": [
            "[nltk_data] Downloading package stopwords to /root/nltk_data...\n",
            "[nltk_data]   Package stopwords is already up-to-date!\n",
            "[nltk_data] Downloading package punkt to /root/nltk_data...\n",
            "[nltk_data]   Package punkt is already up-to-date!\n",
            "[nltk_data] Downloading package wordnet to /root/nltk_data...\n",
            "[nltk_data]   Package wordnet is already up-to-date!\n",
            "[nltk_data] Downloading package omw-1.4 to /root/nltk_data...\n",
            "[nltk_data]   Package omw-1.4 is already up-to-date!\n"
          ]
        }
      ],
      "source": [
        "#import important libraries\n",
        "import numpy as np \n",
        "import pandas as pd \n",
        "import seaborn as sns\n",
        "import matplotlib.pyplot as plt\n",
        "import os\n",
        "\n",
        "#Downloading Preprocessing and data cleaning modules\n",
        "import nltk\n",
        "nltk.download('stopwords')\n",
        "nltk.download('punkt')\n",
        "nltk.download('wordnet')\n",
        "nltk.download('omw-1.4')\n",
        "\n",
        "#EDA and preprocessing\n",
        "import re\n",
        "import nltk.corpus\n",
        "from nltk.corpus import stopwords\n",
        "from nltk.tokenize import word_tokenize\n",
        "from nltk.stem import WordNetLemmatizer\n",
        "from string import digits\n",
        "\n",
        "#modeling\n",
        "from sklearn.feature_extraction.text import TfidfVectorizer, CountVectorizer\n",
        "from sklearn.decomposition import NMF\n",
        "from sklearn.metrics import accuracy_score\n",
        "import sklearn.metrics as metrics\n",
        "import itertools\n",
        "from sklearn.cluster import KMeans\n",
        "from sklearn.model_selection import train_test_split\n",
        "\n",
        "#used this code initially when we uploaded files to Colab Runtime from local disk\n",
        "#changed to another since it is taking long time\n",
        "#find the files names\n",
        "#for dirname, _, filenames in os.walk('/content/sample_data/News'):\n",
        "    #for filename in filenames:\n",
        "        #print(os.path.join(dirname, filename))"
      ]
    },
    {
      "cell_type": "markdown",
      "source": [
        "# Data Loading"
      ],
      "metadata": {
        "id": "DaI3nK_vAvYV"
      }
    },
    {
      "cell_type": "markdown",
      "metadata": {
        "id": "P6503YASMDrI"
      },
      "source": [
        "\n",
        "\n",
        "\n",
        "**Using Files From Google Drive on Google Colab**\n",
        "\n"
      ]
    },
    {
      "cell_type": "markdown",
      "source": [
        "- In general uploading files from local disk to google colab runtime environment takes very long duration.\n",
        "\n",
        "- Inorder to reduce this uploading time, we use the code  ***! gdown id*** where \"id\" is the access ID in the link of the file that is uploaded on the drive with public access.\n",
        "\n",
        "- This helps us in saving time by preventing user to upload files to runtime each time it gets disconnected."
      ],
      "metadata": {
        "id": "1zueG-Mzdx-6"
      }
    },
    {
      "cell_type": "code",
      "execution_count": null,
      "metadata": {
        "id": "-ddUYwvoDNGF",
        "colab": {
          "base_uri": "https://localhost:8080/"
        },
        "outputId": "def63646-418c-4fce-8e8c-b86e2e484174"
      },
      "outputs": [
        {
          "output_type": "stream",
          "name": "stdout",
          "text": [
            "Downloading...\n",
            "From: https://drive.google.com/uc?id=1OdA-xl-N_H5pIKx6tEFT561dTQIYDEyp\n",
            "To: /content/BBC News Train.csv\n",
            "100% 3.35M/3.35M [00:00<00:00, 190MB/s]\n",
            "Downloading...\n",
            "From: https://drive.google.com/uc?id=1jyyWh6Njq9HepMh4Ku8YDm7x7ovz0DGZ\n",
            "To: /content/projDataframe.csv\n",
            "100% 53.7k/53.7k [00:00<00:00, 72.9MB/s]\n"
          ]
        }
      ],
      "source": [
        "# uploading required files from google drive to google colab\n",
        "! gdown 1OdA-xl-N_H5pIKx6tEFT561dTQIYDEyp\n",
        "path_dir = '/content/'\n",
        "train_path = path_dir + 'BBC News Train.csv'\n",
        "\n",
        "! gdown 1jyyWh6Njq9HepMh4Ku8YDm7x7ovz0DGZ\n",
        "projDataframe_path = path_dir + 'projDataframe.csv'"
      ]
    },
    {
      "cell_type": "markdown",
      "source": [
        "**Importing Data:**"
      ],
      "metadata": {
        "id": "K4Jr0WOGhUUu"
      }
    },
    {
      "cell_type": "code",
      "execution_count": null,
      "metadata": {
        "id": "U-jRDmv7XrfR"
      },
      "outputs": [],
      "source": [
        "train = pd.read_csv(train_path)\n",
        "df=pd.read_csv(projDataframe_path)"
      ]
    },
    {
      "cell_type": "code",
      "execution_count": null,
      "metadata": {
        "id": "FtjChz-wXzAz",
        "colab": {
          "base_uri": "https://localhost:8080/",
          "height": 424
        },
        "outputId": "3e7b385e-0803-40bd-c4ba-a00fb689e5a8"
      },
      "outputs": [
        {
          "output_type": "execute_result",
          "data": {
            "text/plain": [
              "      ArticleId                                               Text  \\\n",
              "0          1833  worldcom ex-boss launches defence lawyers defe...   \n",
              "1           154  german business confidence slides german busin...   \n",
              "2          1101  bbc poll indicates economic gloom citizens in ...   \n",
              "3          1976  lifestyle  governs mobile choice  faster  bett...   \n",
              "4           917  enron bosses in $168m payout eighteen former e...   \n",
              "...         ...                                                ...   \n",
              "1485        857  double eviction from big brother model caprice...   \n",
              "1486        325  dj double act revamp chart show dj duo jk and ...   \n",
              "1487       1590  weak dollar hits reuters revenues at media gro...   \n",
              "1488       1587  apple ipod family expands market apple has exp...   \n",
              "1489        538  santy worm makes unwelcome visit thousands of ...   \n",
              "\n",
              "           Category  \n",
              "0          business  \n",
              "1          business  \n",
              "2          business  \n",
              "3              tech  \n",
              "4          business  \n",
              "...             ...  \n",
              "1485  entertainment  \n",
              "1486  entertainment  \n",
              "1487       business  \n",
              "1488           tech  \n",
              "1489           tech  \n",
              "\n",
              "[1490 rows x 3 columns]"
            ],
            "text/html": [
              "\n",
              "  <div id=\"df-4d7a9c42-6b44-408c-ac65-8a31f1717b59\">\n",
              "    <div class=\"colab-df-container\">\n",
              "      <div>\n",
              "<style scoped>\n",
              "    .dataframe tbody tr th:only-of-type {\n",
              "        vertical-align: middle;\n",
              "    }\n",
              "\n",
              "    .dataframe tbody tr th {\n",
              "        vertical-align: top;\n",
              "    }\n",
              "\n",
              "    .dataframe thead th {\n",
              "        text-align: right;\n",
              "    }\n",
              "</style>\n",
              "<table border=\"1\" class=\"dataframe\">\n",
              "  <thead>\n",
              "    <tr style=\"text-align: right;\">\n",
              "      <th></th>\n",
              "      <th>ArticleId</th>\n",
              "      <th>Text</th>\n",
              "      <th>Category</th>\n",
              "    </tr>\n",
              "  </thead>\n",
              "  <tbody>\n",
              "    <tr>\n",
              "      <th>0</th>\n",
              "      <td>1833</td>\n",
              "      <td>worldcom ex-boss launches defence lawyers defe...</td>\n",
              "      <td>business</td>\n",
              "    </tr>\n",
              "    <tr>\n",
              "      <th>1</th>\n",
              "      <td>154</td>\n",
              "      <td>german business confidence slides german busin...</td>\n",
              "      <td>business</td>\n",
              "    </tr>\n",
              "    <tr>\n",
              "      <th>2</th>\n",
              "      <td>1101</td>\n",
              "      <td>bbc poll indicates economic gloom citizens in ...</td>\n",
              "      <td>business</td>\n",
              "    </tr>\n",
              "    <tr>\n",
              "      <th>3</th>\n",
              "      <td>1976</td>\n",
              "      <td>lifestyle  governs mobile choice  faster  bett...</td>\n",
              "      <td>tech</td>\n",
              "    </tr>\n",
              "    <tr>\n",
              "      <th>4</th>\n",
              "      <td>917</td>\n",
              "      <td>enron bosses in $168m payout eighteen former e...</td>\n",
              "      <td>business</td>\n",
              "    </tr>\n",
              "    <tr>\n",
              "      <th>...</th>\n",
              "      <td>...</td>\n",
              "      <td>...</td>\n",
              "      <td>...</td>\n",
              "    </tr>\n",
              "    <tr>\n",
              "      <th>1485</th>\n",
              "      <td>857</td>\n",
              "      <td>double eviction from big brother model caprice...</td>\n",
              "      <td>entertainment</td>\n",
              "    </tr>\n",
              "    <tr>\n",
              "      <th>1486</th>\n",
              "      <td>325</td>\n",
              "      <td>dj double act revamp chart show dj duo jk and ...</td>\n",
              "      <td>entertainment</td>\n",
              "    </tr>\n",
              "    <tr>\n",
              "      <th>1487</th>\n",
              "      <td>1590</td>\n",
              "      <td>weak dollar hits reuters revenues at media gro...</td>\n",
              "      <td>business</td>\n",
              "    </tr>\n",
              "    <tr>\n",
              "      <th>1488</th>\n",
              "      <td>1587</td>\n",
              "      <td>apple ipod family expands market apple has exp...</td>\n",
              "      <td>tech</td>\n",
              "    </tr>\n",
              "    <tr>\n",
              "      <th>1489</th>\n",
              "      <td>538</td>\n",
              "      <td>santy worm makes unwelcome visit thousands of ...</td>\n",
              "      <td>tech</td>\n",
              "    </tr>\n",
              "  </tbody>\n",
              "</table>\n",
              "<p>1490 rows × 3 columns</p>\n",
              "</div>\n",
              "      <button class=\"colab-df-convert\" onclick=\"convertToInteractive('df-4d7a9c42-6b44-408c-ac65-8a31f1717b59')\"\n",
              "              title=\"Convert this dataframe to an interactive table.\"\n",
              "              style=\"display:none;\">\n",
              "        \n",
              "  <svg xmlns=\"http://www.w3.org/2000/svg\" height=\"24px\"viewBox=\"0 0 24 24\"\n",
              "       width=\"24px\">\n",
              "    <path d=\"M0 0h24v24H0V0z\" fill=\"none\"/>\n",
              "    <path d=\"M18.56 5.44l.94 2.06.94-2.06 2.06-.94-2.06-.94-.94-2.06-.94 2.06-2.06.94zm-11 1L8.5 8.5l.94-2.06 2.06-.94-2.06-.94L8.5 2.5l-.94 2.06-2.06.94zm10 10l.94 2.06.94-2.06 2.06-.94-2.06-.94-.94-2.06-.94 2.06-2.06.94z\"/><path d=\"M17.41 7.96l-1.37-1.37c-.4-.4-.92-.59-1.43-.59-.52 0-1.04.2-1.43.59L10.3 9.45l-7.72 7.72c-.78.78-.78 2.05 0 2.83L4 21.41c.39.39.9.59 1.41.59.51 0 1.02-.2 1.41-.59l7.78-7.78 2.81-2.81c.8-.78.8-2.07 0-2.86zM5.41 20L4 18.59l7.72-7.72 1.47 1.35L5.41 20z\"/>\n",
              "  </svg>\n",
              "      </button>\n",
              "      \n",
              "  <style>\n",
              "    .colab-df-container {\n",
              "      display:flex;\n",
              "      flex-wrap:wrap;\n",
              "      gap: 12px;\n",
              "    }\n",
              "\n",
              "    .colab-df-convert {\n",
              "      background-color: #E8F0FE;\n",
              "      border: none;\n",
              "      border-radius: 50%;\n",
              "      cursor: pointer;\n",
              "      display: none;\n",
              "      fill: #1967D2;\n",
              "      height: 32px;\n",
              "      padding: 0 0 0 0;\n",
              "      width: 32px;\n",
              "    }\n",
              "\n",
              "    .colab-df-convert:hover {\n",
              "      background-color: #E2EBFA;\n",
              "      box-shadow: 0px 1px 2px rgba(60, 64, 67, 0.3), 0px 1px 3px 1px rgba(60, 64, 67, 0.15);\n",
              "      fill: #174EA6;\n",
              "    }\n",
              "\n",
              "    [theme=dark] .colab-df-convert {\n",
              "      background-color: #3B4455;\n",
              "      fill: #D2E3FC;\n",
              "    }\n",
              "\n",
              "    [theme=dark] .colab-df-convert:hover {\n",
              "      background-color: #434B5C;\n",
              "      box-shadow: 0px 1px 3px 1px rgba(0, 0, 0, 0.15);\n",
              "      filter: drop-shadow(0px 1px 2px rgba(0, 0, 0, 0.3));\n",
              "      fill: #FFFFFF;\n",
              "    }\n",
              "  </style>\n",
              "\n",
              "      <script>\n",
              "        const buttonEl =\n",
              "          document.querySelector('#df-4d7a9c42-6b44-408c-ac65-8a31f1717b59 button.colab-df-convert');\n",
              "        buttonEl.style.display =\n",
              "          google.colab.kernel.accessAllowed ? 'block' : 'none';\n",
              "\n",
              "        async function convertToInteractive(key) {\n",
              "          const element = document.querySelector('#df-4d7a9c42-6b44-408c-ac65-8a31f1717b59');\n",
              "          const dataTable =\n",
              "            await google.colab.kernel.invokeFunction('convertToInteractive',\n",
              "                                                     [key], {});\n",
              "          if (!dataTable) return;\n",
              "\n",
              "          const docLinkHtml = 'Like what you see? Visit the ' +\n",
              "            '<a target=\"_blank\" href=https://colab.research.google.com/notebooks/data_table.ipynb>data table notebook</a>'\n",
              "            + ' to learn more about interactive tables.';\n",
              "          element.innerHTML = '';\n",
              "          dataTable['output_type'] = 'display_data';\n",
              "          await google.colab.output.renderOutput(dataTable, element);\n",
              "          const docLink = document.createElement('div');\n",
              "          docLink.innerHTML = docLinkHtml;\n",
              "          element.appendChild(docLink);\n",
              "        }\n",
              "      </script>\n",
              "    </div>\n",
              "  </div>\n",
              "  "
            ]
          },
          "metadata": {},
          "execution_count": 55
        }
      ],
      "source": [
        "train"
      ]
    },
    {
      "cell_type": "markdown",
      "source": [
        "Getting more information about the dataframe"
      ],
      "metadata": {
        "id": "SXClFSTaBTKu"
      }
    },
    {
      "cell_type": "code",
      "execution_count": null,
      "metadata": {
        "id": "7kOnJfKSX26B",
        "colab": {
          "base_uri": "https://localhost:8080/",
          "height": 300
        },
        "outputId": "507a5643-84d9-4435-bf40-67c095de0e2d"
      },
      "outputs": [
        {
          "output_type": "execute_result",
          "data": {
            "text/plain": [
              "         ArticleId\n",
              "count  1490.000000\n",
              "mean   1119.696644\n",
              "std     641.826283\n",
              "min       2.000000\n",
              "25%     565.250000\n",
              "50%    1112.500000\n",
              "75%    1680.750000\n",
              "max    2224.000000"
            ],
            "text/html": [
              "\n",
              "  <div id=\"df-a11585d6-e84f-4f68-ac74-906c68b82fbb\">\n",
              "    <div class=\"colab-df-container\">\n",
              "      <div>\n",
              "<style scoped>\n",
              "    .dataframe tbody tr th:only-of-type {\n",
              "        vertical-align: middle;\n",
              "    }\n",
              "\n",
              "    .dataframe tbody tr th {\n",
              "        vertical-align: top;\n",
              "    }\n",
              "\n",
              "    .dataframe thead th {\n",
              "        text-align: right;\n",
              "    }\n",
              "</style>\n",
              "<table border=\"1\" class=\"dataframe\">\n",
              "  <thead>\n",
              "    <tr style=\"text-align: right;\">\n",
              "      <th></th>\n",
              "      <th>ArticleId</th>\n",
              "    </tr>\n",
              "  </thead>\n",
              "  <tbody>\n",
              "    <tr>\n",
              "      <th>count</th>\n",
              "      <td>1490.000000</td>\n",
              "    </tr>\n",
              "    <tr>\n",
              "      <th>mean</th>\n",
              "      <td>1119.696644</td>\n",
              "    </tr>\n",
              "    <tr>\n",
              "      <th>std</th>\n",
              "      <td>641.826283</td>\n",
              "    </tr>\n",
              "    <tr>\n",
              "      <th>min</th>\n",
              "      <td>2.000000</td>\n",
              "    </tr>\n",
              "    <tr>\n",
              "      <th>25%</th>\n",
              "      <td>565.250000</td>\n",
              "    </tr>\n",
              "    <tr>\n",
              "      <th>50%</th>\n",
              "      <td>1112.500000</td>\n",
              "    </tr>\n",
              "    <tr>\n",
              "      <th>75%</th>\n",
              "      <td>1680.750000</td>\n",
              "    </tr>\n",
              "    <tr>\n",
              "      <th>max</th>\n",
              "      <td>2224.000000</td>\n",
              "    </tr>\n",
              "  </tbody>\n",
              "</table>\n",
              "</div>\n",
              "      <button class=\"colab-df-convert\" onclick=\"convertToInteractive('df-a11585d6-e84f-4f68-ac74-906c68b82fbb')\"\n",
              "              title=\"Convert this dataframe to an interactive table.\"\n",
              "              style=\"display:none;\">\n",
              "        \n",
              "  <svg xmlns=\"http://www.w3.org/2000/svg\" height=\"24px\"viewBox=\"0 0 24 24\"\n",
              "       width=\"24px\">\n",
              "    <path d=\"M0 0h24v24H0V0z\" fill=\"none\"/>\n",
              "    <path d=\"M18.56 5.44l.94 2.06.94-2.06 2.06-.94-2.06-.94-.94-2.06-.94 2.06-2.06.94zm-11 1L8.5 8.5l.94-2.06 2.06-.94-2.06-.94L8.5 2.5l-.94 2.06-2.06.94zm10 10l.94 2.06.94-2.06 2.06-.94-2.06-.94-.94-2.06-.94 2.06-2.06.94z\"/><path d=\"M17.41 7.96l-1.37-1.37c-.4-.4-.92-.59-1.43-.59-.52 0-1.04.2-1.43.59L10.3 9.45l-7.72 7.72c-.78.78-.78 2.05 0 2.83L4 21.41c.39.39.9.59 1.41.59.51 0 1.02-.2 1.41-.59l7.78-7.78 2.81-2.81c.8-.78.8-2.07 0-2.86zM5.41 20L4 18.59l7.72-7.72 1.47 1.35L5.41 20z\"/>\n",
              "  </svg>\n",
              "      </button>\n",
              "      \n",
              "  <style>\n",
              "    .colab-df-container {\n",
              "      display:flex;\n",
              "      flex-wrap:wrap;\n",
              "      gap: 12px;\n",
              "    }\n",
              "\n",
              "    .colab-df-convert {\n",
              "      background-color: #E8F0FE;\n",
              "      border: none;\n",
              "      border-radius: 50%;\n",
              "      cursor: pointer;\n",
              "      display: none;\n",
              "      fill: #1967D2;\n",
              "      height: 32px;\n",
              "      padding: 0 0 0 0;\n",
              "      width: 32px;\n",
              "    }\n",
              "\n",
              "    .colab-df-convert:hover {\n",
              "      background-color: #E2EBFA;\n",
              "      box-shadow: 0px 1px 2px rgba(60, 64, 67, 0.3), 0px 1px 3px 1px rgba(60, 64, 67, 0.15);\n",
              "      fill: #174EA6;\n",
              "    }\n",
              "\n",
              "    [theme=dark] .colab-df-convert {\n",
              "      background-color: #3B4455;\n",
              "      fill: #D2E3FC;\n",
              "    }\n",
              "\n",
              "    [theme=dark] .colab-df-convert:hover {\n",
              "      background-color: #434B5C;\n",
              "      box-shadow: 0px 1px 3px 1px rgba(0, 0, 0, 0.15);\n",
              "      filter: drop-shadow(0px 1px 2px rgba(0, 0, 0, 0.3));\n",
              "      fill: #FFFFFF;\n",
              "    }\n",
              "  </style>\n",
              "\n",
              "      <script>\n",
              "        const buttonEl =\n",
              "          document.querySelector('#df-a11585d6-e84f-4f68-ac74-906c68b82fbb button.colab-df-convert');\n",
              "        buttonEl.style.display =\n",
              "          google.colab.kernel.accessAllowed ? 'block' : 'none';\n",
              "\n",
              "        async function convertToInteractive(key) {\n",
              "          const element = document.querySelector('#df-a11585d6-e84f-4f68-ac74-906c68b82fbb');\n",
              "          const dataTable =\n",
              "            await google.colab.kernel.invokeFunction('convertToInteractive',\n",
              "                                                     [key], {});\n",
              "          if (!dataTable) return;\n",
              "\n",
              "          const docLinkHtml = 'Like what you see? Visit the ' +\n",
              "            '<a target=\"_blank\" href=https://colab.research.google.com/notebooks/data_table.ipynb>data table notebook</a>'\n",
              "            + ' to learn more about interactive tables.';\n",
              "          element.innerHTML = '';\n",
              "          dataTable['output_type'] = 'display_data';\n",
              "          await google.colab.output.renderOutput(dataTable, element);\n",
              "          const docLink = document.createElement('div');\n",
              "          docLink.innerHTML = docLinkHtml;\n",
              "          element.appendChild(docLink);\n",
              "        }\n",
              "      </script>\n",
              "    </div>\n",
              "  </div>\n",
              "  "
            ]
          },
          "metadata": {},
          "execution_count": 56
        }
      ],
      "source": [
        "train.describe()"
      ]
    },
    {
      "cell_type": "code",
      "execution_count": null,
      "metadata": {
        "id": "bZRLB7JBX6Lq",
        "colab": {
          "base_uri": "https://localhost:8080/"
        },
        "outputId": "084ded1d-8e60-4f86-8cb4-1535fbf38f41"
      },
      "outputs": [
        {
          "output_type": "stream",
          "name": "stdout",
          "text": [
            "<class 'pandas.core.frame.DataFrame'>\n",
            "RangeIndex: 1490 entries, 0 to 1489\n",
            "Data columns (total 3 columns):\n",
            " #   Column     Non-Null Count  Dtype \n",
            "---  ------     --------------  ----- \n",
            " 0   ArticleId  1490 non-null   int64 \n",
            " 1   Text       1490 non-null   object\n",
            " 2   Category   1490 non-null   object\n",
            "dtypes: int64(1), object(2)\n",
            "memory usage: 35.0+ KB\n"
          ]
        }
      ],
      "source": [
        "train.info()"
      ]
    },
    {
      "cell_type": "code",
      "execution_count": null,
      "metadata": {
        "id": "ICN7enf4X-Kf",
        "colab": {
          "base_uri": "https://localhost:8080/"
        },
        "outputId": "f794566d-530c-4073-e3d2-bc920f9758d8"
      },
      "outputs": [
        {
          "output_type": "execute_result",
          "data": {
            "text/plain": [
              "1490"
            ]
          },
          "metadata": {},
          "execution_count": 58
        }
      ],
      "source": [
        "train['ArticleId'].nunique()"
      ]
    },
    {
      "cell_type": "code",
      "execution_count": null,
      "metadata": {
        "id": "3iIUy0khYCFI",
        "colab": {
          "base_uri": "https://localhost:8080/"
        },
        "outputId": "7bc7e1be-47fa-45b0-da60-4ac457c21f04"
      },
      "outputs": [
        {
          "output_type": "execute_result",
          "data": {
            "text/plain": [
              "array(['business', 'tech', 'politics', 'sport', 'entertainment'],\n",
              "      dtype=object)"
            ]
          },
          "metadata": {},
          "execution_count": 59
        }
      ],
      "source": [
        "train['Category'].unique()"
      ]
    },
    {
      "cell_type": "code",
      "execution_count": null,
      "metadata": {
        "id": "tIFfZE9FYJRz",
        "colab": {
          "base_uri": "https://localhost:8080/",
          "height": 178
        },
        "outputId": "bfed98e8-cf02-4a4c-be7b-471038dde94b"
      },
      "outputs": [
        {
          "output_type": "execute_result",
          "data": {
            "text/plain": [
              "'worldcom ex-boss launches defence lawyers defending former worldcom chief bernie ebbers against a battery of fraud charges have called a company whistleblower as their first witness.  cynthia cooper  worldcom s ex-head of internal accounting  alerted directors to irregular accounting practices at the us telecoms giant in 2002. her warnings led to the collapse of the firm following the discovery of an $11bn (£5.7bn) accounting fraud. mr ebbers has pleaded not guilty to charges of fraud and conspiracy.  prosecution lawyers have argued that mr ebbers orchestrated a series of accounting tricks at worldcom  ordering employees to hide expenses and inflate revenues to meet wall street earnings estimates. but ms cooper  who now runs her own consulting business  told a jury in new york on wednesday that external auditors arthur andersen had approved worldcom s accounting in early 2001 and 2002. she said andersen had given a  green light  to the procedures and practices used by worldcom. mr ebber s lawyers have said he was unaware of the fraud  arguing that auditors did not alert him to any problems.  ms cooper also said that during shareholder meetings mr ebbers often passed over technical questions to the company s finance chief  giving only  brief  answers himself. the prosecution s star witness  former worldcom financial chief scott sullivan  has said that mr ebbers ordered accounting adjustments at the firm  telling him to  hit our books . however  ms cooper said mr sullivan had not mentioned  anything uncomfortable  about worldcom s accounting during a 2001 audit committee meeting. mr ebbers could face a jail sentence of 85 years if convicted of all the charges he is facing. worldcom emerged from bankruptcy protection in 2004  and is now known as mci. last week  mci agreed to a buyout by verizon communications in a deal valued at $6.75bn.'"
            ],
            "application/vnd.google.colaboratory.intrinsic+json": {
              "type": "string"
            }
          },
          "metadata": {},
          "execution_count": 60
        }
      ],
      "source": [
        "# first row \n",
        "train['Text'][0]"
      ]
    },
    {
      "cell_type": "markdown",
      "source": [
        "# Data Visualization & Preprocessing"
      ],
      "metadata": {
        "id": "h_nf-_LGEoBF"
      }
    },
    {
      "cell_type": "markdown",
      "source": [
        "## Graph 1"
      ],
      "metadata": {
        "id": "-Zcg-IvETujs"
      }
    },
    {
      "cell_type": "markdown",
      "source": [
        "### **Graph displaying the Number of articles of each category type in the training data set**\n"
      ],
      "metadata": {
        "id": "0mAy3q4gBDps"
      }
    },
    {
      "cell_type": "code",
      "execution_count": null,
      "metadata": {
        "id": "uODJu116YN1-",
        "colab": {
          "base_uri": "https://localhost:8080/",
          "height": 350
        },
        "outputId": "ca358313-b10d-437b-c269-67065fcb24ac"
      },
      "outputs": [
        {
          "output_type": "display_data",
          "data": {
            "text/plain": [
              "<Figure size 576x360 with 1 Axes>"
            ],
            "image/png": "[encoded data removed]"
          },
          "metadata": {
            "needs_background": "light"
          }
        }
      ],
      "source": [
        "\n",
        "fig, ax = plt.subplots(figsize=(8, 5))\n",
        "sns.histplot(\n",
        "    data = train,\n",
        "    x = 'Category',\n",
        "    hue = 'Category',\n",
        "    palette = 'colorblind',\n",
        "    legend = False,\n",
        "    ).set(\n",
        "        title = 'Category Counts');"
      ]
    },
    {
      "cell_type": "markdown",
      "source": [
        "## 3a. Removing Stopwords, Punctuation, Numbers & Extra Spaces"
      ],
      "metadata": {
        "id": "UDLZJlOwSDE7"
      }
    },
    {
      "cell_type": "markdown",
      "source": [
        "**Helper function to remove punctuation and stopwords by taking dataframe as input**"
      ],
      "metadata": {
        "id": "9L0PaYJNCJGb"
      }
    },
    {
      "cell_type": "code",
      "execution_count": null,
      "metadata": {
        "id": "08toMLfFYTus"
      },
      "outputs": [],
      "source": [
        "def clean_text(dataframe, text_col):\n",
        "    \n",
        "    #to remove punctuation\n",
        "    dataframe['no_punct'] = dataframe[text_col].apply(lambda row: re.sub(r'[^\\w\\s]+', '', row))\n",
        "    \n",
        "    #to remove numbers \n",
        "    dataframe['no_punct_num'] = dataframe['no_punct'].apply(lambda row: re.sub(r'[0-9]+', '', row))\n",
        "    \n",
        "    #to remove stopwords\n",
        "    stop_words = stopwords.words('english')\n",
        "    dataframe['no_stopwords'] = dataframe['no_punct_num'].apply(lambda x: ' '.join([word for word in x.split() if word not in (stop_words)]))\n",
        "    \n",
        "    #to remove extra spaces\n",
        "    dataframe['clean_text'] = dataframe['no_stopwords'].apply(lambda x: re.sub(' +', ' ', x))\n",
        "    return"
      ]
    },
    {
      "cell_type": "code",
      "execution_count": null,
      "metadata": {
        "id": "HOz-DKWYYbeG"
      },
      "outputs": [],
      "source": [
        "#clean dataframe text column\n",
        "clean_text(train, 'Text')"
      ]
    },
    {
      "cell_type": "code",
      "execution_count": null,
      "metadata": {
        "id": "vPEB0jrTYfNc",
        "colab": {
          "base_uri": "https://localhost:8080/",
          "height": 178
        },
        "outputId": "f4d3a45f-ce72-48c5-e60a-62a4b2b86a0f"
      },
      "outputs": [
        {
          "output_type": "execute_result",
          "data": {
            "text/plain": [
              "'german business confidence slides german business confidence fell february knocking hopes speedy recovery europe largest economy munichbased research institute ifo said confidence index fell february january first decline three months study found outlook manufacturing retail sectors worsened observers hoping confident business sector would signal economic activity picking surprised ifo index taken knock said dz bank economist bernd weidensteiner main reason probably domestic economy still weak particularly retail trade economy labour minister wolfgang clement called dip february ifo confidence figure mild decline said despite retreat index remained relatively high level expected modest economic upswing continue germany economy grew last year shrinking however economy contracted last three months mainly due reluctance consumers spend latest indications growth still proving elusive ifo president hanswerner sinn said improvement german domestic demand sluggish exports kept things going first half demand exports hit value euro hit record levels making german products less competitive overseas top unemployment rate stuck close manufacturing firms including daimlerchrysler siemens volkswagen negotiating unions cost cutting measures analysts said ifo figures germany continuing problems may delay interest rate rise european central bank eurozone interest rates comments senior officials recently focused threat inflation prompting fears interest rates may rise'"
            ],
            "application/vnd.google.colaboratory.intrinsic+json": {
              "type": "string"
            }
          },
          "metadata": {},
          "execution_count": 64
        }
      ],
      "source": [
        "train['clean_text'][1]"
      ]
    },
    {
      "cell_type": "markdown",
      "source": [
        "## 3b. Tokenization"
      ],
      "metadata": {
        "id": "C-w30dRMRtEj"
      }
    },
    {
      "cell_type": "markdown",
      "source": [
        "**Helper function to tokenize an entire sentence**"
      ],
      "metadata": {
        "id": "sWu3OBs_CcFQ"
      }
    },
    {
      "cell_type": "code",
      "execution_count": null,
      "metadata": {
        "id": "XOaLps8RYji7"
      },
      "outputs": [],
      "source": [
        "# tokenize text function\n",
        "wordnet_lemmatizer = WordNetLemmatizer()\n",
        "def lemmatizer(text):\n",
        "    lem = [wordnet_lemmatizer.lemmatize(word.lower()) for word in text] \n",
        "    return lem\n",
        "\n"
      ]
    },
    {
      "cell_type": "markdown",
      "source": [
        "## 3c. Lemmatization"
      ],
      "metadata": {
        "id": "qa_brU-UR27p"
      }
    },
    {
      "cell_type": "markdown",
      "source": [
        "**Helper function to lemmatize the string.**\n",
        "\n",
        "This function also add a column which has the count of number of words in the string."
      ],
      "metadata": {
        "id": "S5ygck78CmZr"
      }
    },
    {
      "cell_type": "code",
      "source": [
        "def tokenize_lemmatize(dataframe, text_col):\n",
        "    dataframe['tokenized'] = dataframe.apply(lambda row: nltk.word_tokenize(row[text_col]), axis=1)\n",
        "    dataframe['lemmatized'] = dataframe['tokenized'].apply(lambda string: lemmatizer(string))\n",
        "    dataframe['num_words'] = dataframe['lemmatized'].apply(lambda lst: len(lst))\n",
        "    return"
      ],
      "metadata": {
        "id": "BD2gbKeqCigt"
      },
      "execution_count": null,
      "outputs": []
    },
    {
      "cell_type": "code",
      "execution_count": null,
      "metadata": {
        "id": "Oy7RGKYDYpED"
      },
      "outputs": [],
      "source": [
        "tokenize_lemmatize(train, 'clean_text')"
      ]
    },
    {
      "cell_type": "markdown",
      "source": [
        "##Graph 2"
      ],
      "metadata": {
        "id": "4nWhlyFDTppS"
      }
    },
    {
      "cell_type": "markdown",
      "source": [
        "###**Graph displaying the Number of words per article in the training data set**"
      ],
      "metadata": {
        "id": "R2b0K8ThDBWp"
      }
    },
    {
      "cell_type": "code",
      "source": [
        "# number of tokens (words) per article\n",
        "fig, ax = plt.subplots(figsize=(15, 5))\n",
        "sns.histplot(\n",
        "    data = train, \n",
        "    x = 'num_words',\n",
        "    palette = 'colorblind',\n",
        "    ).set(\n",
        "        title = 'Number of Words per Article');"
      ],
      "metadata": {
        "colab": {
          "base_uri": "https://localhost:8080/",
          "height": 351
        },
        "id": "16b4Qyz0RBR-",
        "outputId": "f16576a8-8893-4231-ecb2-096a7dab694e"
      },
      "execution_count": null,
      "outputs": [
        {
          "output_type": "display_data",
          "data": {
            "text/plain": [
              "<Figure size 1080x360 with 1 Axes>"
            ],
            "image/png": "[encoded data removed]"
          },
          "metadata": {
            "needs_background": "light"
          }
        }
      ]
    },
    {
      "cell_type": "markdown",
      "source": [
        "## 3d. Removing Outliers"
      ],
      "metadata": {
        "id": "nw9KikxVSY8E"
      }
    },
    {
      "cell_type": "markdown",
      "source": [
        "**Removing Outlier Articles:** \n",
        "\n",
        "Articles that are longer than 750 words (Since we use summarization before classification, the articles that would be tested are in generally concise)"
      ],
      "metadata": {
        "id": "yyzf7ElkDH47"
      }
    },
    {
      "cell_type": "code",
      "execution_count": null,
      "metadata": {
        "id": "RqESct9xYt0m",
        "colab": {
          "base_uri": "https://localhost:8080/"
        },
        "outputId": "4324369c-c275-4f98-a612-fbae15a9c991"
      },
      "outputs": [
        {
          "output_type": "execute_result",
          "data": {
            "text/plain": [
              "1484"
            ]
          },
          "metadata": {},
          "execution_count": 69
        }
      ],
      "source": [
        "train = train[train['num_words'] < 750]\n",
        "len(train)"
      ]
    },
    {
      "cell_type": "markdown",
      "source": [
        "## Graph 3"
      ],
      "metadata": {
        "id": "lnGNbgVoTbkg"
      }
    },
    {
      "cell_type": "markdown",
      "source": [
        "###**Graph displaying the Number of words per category in the training data set**"
      ],
      "metadata": {
        "id": "QGgYr-LmDi6v"
      }
    },
    {
      "cell_type": "code",
      "execution_count": null,
      "metadata": {
        "id": "Wveaz9q7YyjI",
        "colab": {
          "base_uri": "https://localhost:8080/",
          "height": 351
        },
        "outputId": "6ea8bb35-a4a5-4a59-b5af-c15c8e325f12"
      },
      "outputs": [
        {
          "output_type": "display_data",
          "data": {
            "text/plain": [
              "<Figure size 1080x360 with 1 Axes>"
            ],
            "image/png": "[encoded data removed]"
          },
          "metadata": {
            "needs_background": "light"
          }
        }
      ],
      "source": [
        "fig, ax = plt.subplots(figsize=(15, 5))\n",
        "sns.boxplot(\n",
        "    data = train, \n",
        "    x = 'num_words', \n",
        "    y = 'Category',\n",
        "    palette = 'colorblind'\n",
        "    ).set(\n",
        "        title = 'Number of Words Per Category');"
      ]
    },
    {
      "cell_type": "markdown",
      "source": [
        "# Helper functions to Classify articles into categories"
      ],
      "metadata": {
        "id": "46urND4PUJL3"
      }
    },
    {
      "cell_type": "code",
      "execution_count": null,
      "metadata": {
        "id": "YA5O9FLZY3lV"
      },
      "outputs": [],
      "source": [
        "train_df = train.copy()"
      ]
    },
    {
      "cell_type": "code",
      "execution_count": null,
      "metadata": {
        "id": "fW7N2cRJY7wJ"
      },
      "outputs": [],
      "source": [
        "def predict(w_matrix):\n",
        "    sortedW = np.argsort(w_matrix)\n",
        "    n_predictions, maxValue = sortedW.shape\n",
        "    predictions = [[sortedW[i][maxValue - 1]] for i in range(n_predictions)]\n",
        "    topics = np.empty(n_predictions, dtype = np.int64)\n",
        "    for i in range(n_predictions):\n",
        "        topics[i] = predictions[i][0]\n",
        "    return topics"
      ]
    },
    {
      "cell_type": "code",
      "execution_count": null,
      "metadata": {
        "id": "e2J360cWZAMn"
      },
      "outputs": [],
      "source": [
        "def label_permute(ytdf,yp,n=5):\n",
        "    \"\"\"\n",
        "    ytdf: labels dataframe object\n",
        "    yp: clustering label prediction output\n",
        "    Returns permuted label order and accuracy. \n",
        "    Example output: (3, 4, 1, 2, 0), 0.74 \n",
        "    \"\"\"\n",
        "    perms = list(itertools.permutations([0, 1, 2, 3, 4]))    #create permutation list\n",
        "    best_labels = []\n",
        "    best_acc = 0 \n",
        "    current = {}\n",
        "    labels = ['business', 'tech', 'politics', 'sport', 'entertainment']\n",
        "    for perm in perms:\n",
        "        for i in range(n):\n",
        "            current[labels[i]] = perm[i]\n",
        "            if len(current) == 5:\n",
        "                conditions = [\n",
        "                    (ytdf['Category'] == current['business']),\n",
        "                    (ytdf['Category'] == current['tech']),\n",
        "                    (ytdf['Category'] == current['politics']),\n",
        "                    (ytdf['Category'] == current['sport']),\n",
        "                    (ytdf['Category'] == current['entertainment'])]\n",
        "                ytdf['test'] = ytdf['Category'].map(current)\n",
        "                current_accuracy = accuracy_score(ytdf['test'], yp)\n",
        "                if current_accuracy > best_acc: \n",
        "                    best_acc = current_accuracy\n",
        "                    best_labels = perm\n",
        "                    ytdf['best'] = ytdf['test']\n",
        "    return best_labels, best_acc"
      ]
    },
    {
      "cell_type": "markdown",
      "source": [
        "# Creating Vectorizer and NMF model"
      ],
      "metadata": {
        "id": "owz7JhxRE1Oa"
      }
    },
    {
      "cell_type": "code",
      "execution_count": null,
      "metadata": {
        "id": "ClSGiyJxZGyH",
        "colab": {
          "base_uri": "https://localhost:8080/"
        },
        "outputId": "e200c792-156c-4fa0-8099-c7126041eb7a"
      },
      "outputs": [
        {
          "output_type": "stream",
          "name": "stdout",
          "text": [
            "accuracy= 0.9609164420485176\n"
          ]
        }
      ],
      "source": [
        "#create vectorizer\n",
        "tfidvec = TfidfVectorizer(min_df = 2,\n",
        "                          max_df = 0.95,\n",
        "                          norm = 'l2',\n",
        "                          stop_words = 'english')\n",
        "tfidvec_train = tfidvec.fit_transform(train_df['clean_text'])\n",
        "\n",
        "#create model\n",
        "nmf_model = NMF(n_components=5, \n",
        "                init='nndsvda', \n",
        "                solver = 'mu',\n",
        "                beta_loss = 'kullback-leibler',\n",
        "                l1_ratio = 0.5,\n",
        "                random_state = 101)\n",
        "nmf_model.fit(tfidvec_train)\n",
        "\n",
        "#view results\n",
        "yhat_train = predict(nmf_model.transform(tfidvec_train))\n",
        "label_order, accuracy = label_permute(train_df, yhat_train )\n",
        "print('accuracy=', accuracy)"
      ]
    },
    {
      "cell_type": "markdown",
      "source": [
        "Training accuracy for NMF using TF-IDF is found to be **96.09%**"
      ],
      "metadata": {
        "id": "DWbAG7nW-hde"
      }
    },
    {
      "cell_type": "code",
      "execution_count": null,
      "metadata": {
        "id": "VTw-20BQZNde",
        "colab": {
          "base_uri": "https://localhost:8080/"
        },
        "outputId": "e894a83e-a94f-491f-a59b-dd7edd62c5bc"
      },
      "outputs": [
        {
          "output_type": "stream",
          "name": "stdout",
          "text": [
            "4:  business\n",
            "2:  tech\n",
            "1:  politics\n",
            "0:  sport\n",
            "3:  entertainment\n"
          ]
        }
      ],
      "source": [
        "#show best labels for the trained model \n",
        "label_dict = {4:'business', 2:'tech', 1:'politics', 0:'sport', 3:'entertainment'}\n",
        "for i in range(5):\n",
        "    print(f'{label_order[i]}:  {label_dict[label_order[i]]}')"
      ]
    },
    {
      "cell_type": "markdown",
      "metadata": {
        "id": "ccoL71KxbNuj"
      },
      "source": [
        "# Test data classification with NMF & TF-IDF"
      ]
    },
    {
      "cell_type": "code",
      "source": [
        "print(len(df))"
      ],
      "metadata": {
        "colab": {
          "base_uri": "https://localhost:8080/"
        },
        "id": "rA12fp9fMWVq",
        "outputId": "aa1003ad-1869-4672-c11c-a435ddfe6c02"
      },
      "execution_count": null,
      "outputs": [
        {
          "output_type": "stream",
          "name": "stdout",
          "text": [
            "64\n"
          ]
        }
      ]
    },
    {
      "cell_type": "code",
      "execution_count": null,
      "metadata": {
        "id": "F-6WBL8wZRVg",
        "colab": {
          "base_uri": "https://localhost:8080/"
        },
        "outputId": "39bca871-9e17-49f0-cd6e-13035f48d22f"
      },
      "outputs": [
        {
          "output_type": "stream",
          "name": "stdout",
          "text": [
            "0    politics\n",
            "Name: category, dtype: object\n",
            "1    politics\n",
            "Name: category, dtype: object\n",
            "2    politics\n",
            "Name: category, dtype: object\n",
            "3    politics\n",
            "Name: category, dtype: object\n",
            "4    politics\n",
            "Name: category, dtype: object\n",
            "5    business\n",
            "Name: category, dtype: object\n",
            "6    tech\n",
            "Name: category, dtype: object\n",
            "7    politics\n",
            "Name: category, dtype: object\n",
            "8    entertainment\n",
            "Name: category, dtype: object\n",
            "9    tech\n",
            "Name: category, dtype: object\n",
            "10    tech\n",
            "Name: category, dtype: object\n"
          ]
        },
        {
          "output_type": "stream",
          "name": "stderr",
          "text": [
            "<ipython-input-77-50b2471cd142>:13: SettingWithCopyWarning: \n",
            "A value is trying to be set on a copy of a slice from a DataFrame.\n",
            "Try using .loc[row_indexer,col_indexer] = value instead\n",
            "\n",
            "See the caveats in the documentation: https://pandas.pydata.org/pandas-docs/stable/user_guide/indexing.html#returning-a-view-versus-a-copy\n",
            "  df[i:i+1]['category']=pred\n",
            "<ipython-input-77-50b2471cd142>:13: SettingWithCopyWarning: \n",
            "A value is trying to be set on a copy of a slice from a DataFrame.\n",
            "Try using .loc[row_indexer,col_indexer] = value instead\n",
            "\n",
            "See the caveats in the documentation: https://pandas.pydata.org/pandas-docs/stable/user_guide/indexing.html#returning-a-view-versus-a-copy\n",
            "  df[i:i+1]['category']=pred\n",
            "<ipython-input-77-50b2471cd142>:13: SettingWithCopyWarning: \n",
            "A value is trying to be set on a copy of a slice from a DataFrame.\n",
            "Try using .loc[row_indexer,col_indexer] = value instead\n",
            "\n",
            "See the caveats in the documentation: https://pandas.pydata.org/pandas-docs/stable/user_guide/indexing.html#returning-a-view-versus-a-copy\n",
            "  df[i:i+1]['category']=pred\n",
            "<ipython-input-77-50b2471cd142>:13: SettingWithCopyWarning: \n",
            "A value is trying to be set on a copy of a slice from a DataFrame.\n",
            "Try using .loc[row_indexer,col_indexer] = value instead\n",
            "\n",
            "See the caveats in the documentation: https://pandas.pydata.org/pandas-docs/stable/user_guide/indexing.html#returning-a-view-versus-a-copy\n",
            "  df[i:i+1]['category']=pred\n",
            "<ipython-input-77-50b2471cd142>:13: SettingWithCopyWarning: \n",
            "A value is trying to be set on a copy of a slice from a DataFrame.\n",
            "Try using .loc[row_indexer,col_indexer] = value instead\n",
            "\n",
            "See the caveats in the documentation: https://pandas.pydata.org/pandas-docs/stable/user_guide/indexing.html#returning-a-view-versus-a-copy\n",
            "  df[i:i+1]['category']=pred\n",
            "<ipython-input-77-50b2471cd142>:13: SettingWithCopyWarning: \n",
            "A value is trying to be set on a copy of a slice from a DataFrame.\n",
            "Try using .loc[row_indexer,col_indexer] = value instead\n",
            "\n",
            "See the caveats in the documentation: https://pandas.pydata.org/pandas-docs/stable/user_guide/indexing.html#returning-a-view-versus-a-copy\n",
            "  df[i:i+1]['category']=pred\n",
            "<ipython-input-77-50b2471cd142>:13: SettingWithCopyWarning: \n",
            "A value is trying to be set on a copy of a slice from a DataFrame.\n",
            "Try using .loc[row_indexer,col_indexer] = value instead\n",
            "\n",
            "See the caveats in the documentation: https://pandas.pydata.org/pandas-docs/stable/user_guide/indexing.html#returning-a-view-versus-a-copy\n",
            "  df[i:i+1]['category']=pred\n",
            "<ipython-input-77-50b2471cd142>:13: SettingWithCopyWarning: \n",
            "A value is trying to be set on a copy of a slice from a DataFrame.\n",
            "Try using .loc[row_indexer,col_indexer] = value instead\n",
            "\n",
            "See the caveats in the documentation: https://pandas.pydata.org/pandas-docs/stable/user_guide/indexing.html#returning-a-view-versus-a-copy\n",
            "  df[i:i+1]['category']=pred\n",
            "<ipython-input-77-50b2471cd142>:13: SettingWithCopyWarning: \n",
            "A value is trying to be set on a copy of a slice from a DataFrame.\n",
            "Try using .loc[row_indexer,col_indexer] = value instead\n",
            "\n",
            "See the caveats in the documentation: https://pandas.pydata.org/pandas-docs/stable/user_guide/indexing.html#returning-a-view-versus-a-copy\n",
            "  df[i:i+1]['category']=pred\n",
            "<ipython-input-77-50b2471cd142>:13: SettingWithCopyWarning: \n",
            "A value is trying to be set on a copy of a slice from a DataFrame.\n",
            "Try using .loc[row_indexer,col_indexer] = value instead\n",
            "\n",
            "See the caveats in the documentation: https://pandas.pydata.org/pandas-docs/stable/user_guide/indexing.html#returning-a-view-versus-a-copy\n",
            "  df[i:i+1]['category']=pred\n",
            "<ipython-input-77-50b2471cd142>:13: SettingWithCopyWarning: \n",
            "A value is trying to be set on a copy of a slice from a DataFrame.\n",
            "Try using .loc[row_indexer,col_indexer] = value instead\n",
            "\n",
            "See the caveats in the documentation: https://pandas.pydata.org/pandas-docs/stable/user_guide/indexing.html#returning-a-view-versus-a-copy\n",
            "  df[i:i+1]['category']=pred\n",
            "<ipython-input-77-50b2471cd142>:13: SettingWithCopyWarning: \n",
            "A value is trying to be set on a copy of a slice from a DataFrame.\n",
            "Try using .loc[row_indexer,col_indexer] = value instead\n",
            "\n",
            "See the caveats in the documentation: https://pandas.pydata.org/pandas-docs/stable/user_guide/indexing.html#returning-a-view-versus-a-copy\n",
            "  df[i:i+1]['category']=pred\n",
            "<ipython-input-77-50b2471cd142>:13: SettingWithCopyWarning: \n",
            "A value is trying to be set on a copy of a slice from a DataFrame.\n",
            "Try using .loc[row_indexer,col_indexer] = value instead\n",
            "\n",
            "See the caveats in the documentation: https://pandas.pydata.org/pandas-docs/stable/user_guide/indexing.html#returning-a-view-versus-a-copy\n",
            "  df[i:i+1]['category']=pred\n"
          ]
        },
        {
          "output_type": "stream",
          "name": "stdout",
          "text": [
            "11    tech\n",
            "Name: category, dtype: object\n",
            "12    entertainment\n",
            "Name: category, dtype: object\n",
            "13    politics\n",
            "Name: category, dtype: object\n",
            "14    business\n",
            "Name: category, dtype: object\n",
            "15    tech\n",
            "Name: category, dtype: object\n",
            "16    business\n",
            "Name: category, dtype: object\n",
            "17    business\n",
            "Name: category, dtype: object\n",
            "18    politics\n",
            "Name: category, dtype: object\n",
            "19    politics\n",
            "Name: category, dtype: object\n",
            "20    tech\n",
            "Name: category, dtype: object\n",
            "21    business\n",
            "Name: category, dtype: object\n",
            "22    business\n",
            "Name: category, dtype: object\n"
          ]
        },
        {
          "output_type": "stream",
          "name": "stderr",
          "text": [
            "<ipython-input-77-50b2471cd142>:13: SettingWithCopyWarning: \n",
            "A value is trying to be set on a copy of a slice from a DataFrame.\n",
            "Try using .loc[row_indexer,col_indexer] = value instead\n",
            "\n",
            "See the caveats in the documentation: https://pandas.pydata.org/pandas-docs/stable/user_guide/indexing.html#returning-a-view-versus-a-copy\n",
            "  df[i:i+1]['category']=pred\n",
            "<ipython-input-77-50b2471cd142>:13: SettingWithCopyWarning: \n",
            "A value is trying to be set on a copy of a slice from a DataFrame.\n",
            "Try using .loc[row_indexer,col_indexer] = value instead\n",
            "\n",
            "See the caveats in the documentation: https://pandas.pydata.org/pandas-docs/stable/user_guide/indexing.html#returning-a-view-versus-a-copy\n",
            "  df[i:i+1]['category']=pred\n",
            "<ipython-input-77-50b2471cd142>:13: SettingWithCopyWarning: \n",
            "A value is trying to be set on a copy of a slice from a DataFrame.\n",
            "Try using .loc[row_indexer,col_indexer] = value instead\n",
            "\n",
            "See the caveats in the documentation: https://pandas.pydata.org/pandas-docs/stable/user_guide/indexing.html#returning-a-view-versus-a-copy\n",
            "  df[i:i+1]['category']=pred\n",
            "<ipython-input-77-50b2471cd142>:13: SettingWithCopyWarning: \n",
            "A value is trying to be set on a copy of a slice from a DataFrame.\n",
            "Try using .loc[row_indexer,col_indexer] = value instead\n",
            "\n",
            "See the caveats in the documentation: https://pandas.pydata.org/pandas-docs/stable/user_guide/indexing.html#returning-a-view-versus-a-copy\n",
            "  df[i:i+1]['category']=pred\n",
            "<ipython-input-77-50b2471cd142>:13: SettingWithCopyWarning: \n",
            "A value is trying to be set on a copy of a slice from a DataFrame.\n",
            "Try using .loc[row_indexer,col_indexer] = value instead\n",
            "\n",
            "See the caveats in the documentation: https://pandas.pydata.org/pandas-docs/stable/user_guide/indexing.html#returning-a-view-versus-a-copy\n",
            "  df[i:i+1]['category']=pred\n",
            "<ipython-input-77-50b2471cd142>:13: SettingWithCopyWarning: \n",
            "A value is trying to be set on a copy of a slice from a DataFrame.\n",
            "Try using .loc[row_indexer,col_indexer] = value instead\n",
            "\n",
            "See the caveats in the documentation: https://pandas.pydata.org/pandas-docs/stable/user_guide/indexing.html#returning-a-view-versus-a-copy\n",
            "  df[i:i+1]['category']=pred\n",
            "<ipython-input-77-50b2471cd142>:13: SettingWithCopyWarning: \n",
            "A value is trying to be set on a copy of a slice from a DataFrame.\n",
            "Try using .loc[row_indexer,col_indexer] = value instead\n",
            "\n",
            "See the caveats in the documentation: https://pandas.pydata.org/pandas-docs/stable/user_guide/indexing.html#returning-a-view-versus-a-copy\n",
            "  df[i:i+1]['category']=pred\n",
            "<ipython-input-77-50b2471cd142>:13: SettingWithCopyWarning: \n",
            "A value is trying to be set on a copy of a slice from a DataFrame.\n",
            "Try using .loc[row_indexer,col_indexer] = value instead\n",
            "\n",
            "See the caveats in the documentation: https://pandas.pydata.org/pandas-docs/stable/user_guide/indexing.html#returning-a-view-versus-a-copy\n",
            "  df[i:i+1]['category']=pred\n",
            "<ipython-input-77-50b2471cd142>:13: SettingWithCopyWarning: \n",
            "A value is trying to be set on a copy of a slice from a DataFrame.\n",
            "Try using .loc[row_indexer,col_indexer] = value instead\n",
            "\n",
            "See the caveats in the documentation: https://pandas.pydata.org/pandas-docs/stable/user_guide/indexing.html#returning-a-view-versus-a-copy\n",
            "  df[i:i+1]['category']=pred\n",
            "<ipython-input-77-50b2471cd142>:13: SettingWithCopyWarning: \n",
            "A value is trying to be set on a copy of a slice from a DataFrame.\n",
            "Try using .loc[row_indexer,col_indexer] = value instead\n",
            "\n",
            "See the caveats in the documentation: https://pandas.pydata.org/pandas-docs/stable/user_guide/indexing.html#returning-a-view-versus-a-copy\n",
            "  df[i:i+1]['category']=pred\n",
            "<ipython-input-77-50b2471cd142>:13: SettingWithCopyWarning: \n",
            "A value is trying to be set on a copy of a slice from a DataFrame.\n",
            "Try using .loc[row_indexer,col_indexer] = value instead\n",
            "\n",
            "See the caveats in the documentation: https://pandas.pydata.org/pandas-docs/stable/user_guide/indexing.html#returning-a-view-versus-a-copy\n",
            "  df[i:i+1]['category']=pred\n"
          ]
        },
        {
          "output_type": "stream",
          "name": "stdout",
          "text": [
            "23    entertainment\n",
            "Name: category, dtype: object\n",
            "24    entertainment\n",
            "Name: category, dtype: object\n",
            "25    business\n",
            "Name: category, dtype: object\n",
            "26    business\n",
            "Name: category, dtype: object\n",
            "27    politics\n",
            "Name: category, dtype: object\n",
            "28    tech\n",
            "Name: category, dtype: object\n",
            "29    business\n",
            "Name: category, dtype: object\n",
            "30    entertainment\n",
            "Name: category, dtype: object\n",
            "31    entertainment\n",
            "Name: category, dtype: object\n",
            "32    politics\n",
            "Name: category, dtype: object\n",
            "33    entertainment\n",
            "Name: category, dtype: object\n",
            "34    tech\n",
            "Name: category, dtype: object\n",
            "35    entertainment\n",
            "Name: category, dtype: object\n"
          ]
        },
        {
          "output_type": "stream",
          "name": "stderr",
          "text": [
            "<ipython-input-77-50b2471cd142>:13: SettingWithCopyWarning: \n",
            "A value is trying to be set on a copy of a slice from a DataFrame.\n",
            "Try using .loc[row_indexer,col_indexer] = value instead\n",
            "\n",
            "See the caveats in the documentation: https://pandas.pydata.org/pandas-docs/stable/user_guide/indexing.html#returning-a-view-versus-a-copy\n",
            "  df[i:i+1]['category']=pred\n",
            "<ipython-input-77-50b2471cd142>:13: SettingWithCopyWarning: \n",
            "A value is trying to be set on a copy of a slice from a DataFrame.\n",
            "Try using .loc[row_indexer,col_indexer] = value instead\n",
            "\n",
            "See the caveats in the documentation: https://pandas.pydata.org/pandas-docs/stable/user_guide/indexing.html#returning-a-view-versus-a-copy\n",
            "  df[i:i+1]['category']=pred\n",
            "<ipython-input-77-50b2471cd142>:13: SettingWithCopyWarning: \n",
            "A value is trying to be set on a copy of a slice from a DataFrame.\n",
            "Try using .loc[row_indexer,col_indexer] = value instead\n",
            "\n",
            "See the caveats in the documentation: https://pandas.pydata.org/pandas-docs/stable/user_guide/indexing.html#returning-a-view-versus-a-copy\n",
            "  df[i:i+1]['category']=pred\n",
            "<ipython-input-77-50b2471cd142>:13: SettingWithCopyWarning: \n",
            "A value is trying to be set on a copy of a slice from a DataFrame.\n",
            "Try using .loc[row_indexer,col_indexer] = value instead\n",
            "\n",
            "See the caveats in the documentation: https://pandas.pydata.org/pandas-docs/stable/user_guide/indexing.html#returning-a-view-versus-a-copy\n",
            "  df[i:i+1]['category']=pred\n",
            "<ipython-input-77-50b2471cd142>:13: SettingWithCopyWarning: \n",
            "A value is trying to be set on a copy of a slice from a DataFrame.\n",
            "Try using .loc[row_indexer,col_indexer] = value instead\n",
            "\n",
            "See the caveats in the documentation: https://pandas.pydata.org/pandas-docs/stable/user_guide/indexing.html#returning-a-view-versus-a-copy\n",
            "  df[i:i+1]['category']=pred\n",
            "<ipython-input-77-50b2471cd142>:13: SettingWithCopyWarning: \n",
            "A value is trying to be set on a copy of a slice from a DataFrame.\n",
            "Try using .loc[row_indexer,col_indexer] = value instead\n",
            "\n",
            "See the caveats in the documentation: https://pandas.pydata.org/pandas-docs/stable/user_guide/indexing.html#returning-a-view-versus-a-copy\n",
            "  df[i:i+1]['category']=pred\n",
            "<ipython-input-77-50b2471cd142>:13: SettingWithCopyWarning: \n",
            "A value is trying to be set on a copy of a slice from a DataFrame.\n",
            "Try using .loc[row_indexer,col_indexer] = value instead\n",
            "\n",
            "See the caveats in the documentation: https://pandas.pydata.org/pandas-docs/stable/user_guide/indexing.html#returning-a-view-versus-a-copy\n",
            "  df[i:i+1]['category']=pred\n",
            "<ipython-input-77-50b2471cd142>:13: SettingWithCopyWarning: \n",
            "A value is trying to be set on a copy of a slice from a DataFrame.\n",
            "Try using .loc[row_indexer,col_indexer] = value instead\n",
            "\n",
            "See the caveats in the documentation: https://pandas.pydata.org/pandas-docs/stable/user_guide/indexing.html#returning-a-view-versus-a-copy\n",
            "  df[i:i+1]['category']=pred\n",
            "<ipython-input-77-50b2471cd142>:13: SettingWithCopyWarning: \n",
            "A value is trying to be set on a copy of a slice from a DataFrame.\n",
            "Try using .loc[row_indexer,col_indexer] = value instead\n",
            "\n",
            "See the caveats in the documentation: https://pandas.pydata.org/pandas-docs/stable/user_guide/indexing.html#returning-a-view-versus-a-copy\n",
            "  df[i:i+1]['category']=pred\n",
            "<ipython-input-77-50b2471cd142>:13: SettingWithCopyWarning: \n",
            "A value is trying to be set on a copy of a slice from a DataFrame.\n",
            "Try using .loc[row_indexer,col_indexer] = value instead\n",
            "\n",
            "See the caveats in the documentation: https://pandas.pydata.org/pandas-docs/stable/user_guide/indexing.html#returning-a-view-versus-a-copy\n",
            "  df[i:i+1]['category']=pred\n",
            "<ipython-input-77-50b2471cd142>:13: SettingWithCopyWarning: \n",
            "A value is trying to be set on a copy of a slice from a DataFrame.\n",
            "Try using .loc[row_indexer,col_indexer] = value instead\n",
            "\n",
            "See the caveats in the documentation: https://pandas.pydata.org/pandas-docs/stable/user_guide/indexing.html#returning-a-view-versus-a-copy\n",
            "  df[i:i+1]['category']=pred\n",
            "<ipython-input-77-50b2471cd142>:13: SettingWithCopyWarning: \n",
            "A value is trying to be set on a copy of a slice from a DataFrame.\n",
            "Try using .loc[row_indexer,col_indexer] = value instead\n",
            "\n",
            "See the caveats in the documentation: https://pandas.pydata.org/pandas-docs/stable/user_guide/indexing.html#returning-a-view-versus-a-copy\n",
            "  df[i:i+1]['category']=pred\n",
            "<ipython-input-77-50b2471cd142>:13: SettingWithCopyWarning: \n",
            "A value is trying to be set on a copy of a slice from a DataFrame.\n",
            "Try using .loc[row_indexer,col_indexer] = value instead\n",
            "\n",
            "See the caveats in the documentation: https://pandas.pydata.org/pandas-docs/stable/user_guide/indexing.html#returning-a-view-versus-a-copy\n",
            "  df[i:i+1]['category']=pred\n"
          ]
        },
        {
          "output_type": "stream",
          "name": "stdout",
          "text": [
            "36    politics\n",
            "Name: category, dtype: object\n",
            "37    business\n",
            "Name: category, dtype: object\n",
            "38    business\n",
            "Name: category, dtype: object\n",
            "39    entertainment\n",
            "Name: category, dtype: object\n",
            "40    politics\n",
            "Name: category, dtype: object\n",
            "41    politics\n",
            "Name: category, dtype: object\n",
            "42    politics\n",
            "Name: category, dtype: object\n",
            "43    sport\n",
            "Name: category, dtype: object\n",
            "44    tech\n",
            "Name: category, dtype: object\n",
            "45    politics\n",
            "Name: category, dtype: object\n",
            "46    business\n",
            "Name: category, dtype: object\n",
            "47    tech\n",
            "Name: category, dtype: object\n",
            "48    politics\n",
            "Name: category, dtype: object\n",
            "49    politics\n",
            "Name: category, dtype: object\n"
          ]
        },
        {
          "output_type": "stream",
          "name": "stderr",
          "text": [
            "<ipython-input-77-50b2471cd142>:13: SettingWithCopyWarning: \n",
            "A value is trying to be set on a copy of a slice from a DataFrame.\n",
            "Try using .loc[row_indexer,col_indexer] = value instead\n",
            "\n",
            "See the caveats in the documentation: https://pandas.pydata.org/pandas-docs/stable/user_guide/indexing.html#returning-a-view-versus-a-copy\n",
            "  df[i:i+1]['category']=pred\n",
            "<ipython-input-77-50b2471cd142>:13: SettingWithCopyWarning: \n",
            "A value is trying to be set on a copy of a slice from a DataFrame.\n",
            "Try using .loc[row_indexer,col_indexer] = value instead\n",
            "\n",
            "See the caveats in the documentation: https://pandas.pydata.org/pandas-docs/stable/user_guide/indexing.html#returning-a-view-versus-a-copy\n",
            "  df[i:i+1]['category']=pred\n",
            "<ipython-input-77-50b2471cd142>:13: SettingWithCopyWarning: \n",
            "A value is trying to be set on a copy of a slice from a DataFrame.\n",
            "Try using .loc[row_indexer,col_indexer] = value instead\n",
            "\n",
            "See the caveats in the documentation: https://pandas.pydata.org/pandas-docs/stable/user_guide/indexing.html#returning-a-view-versus-a-copy\n",
            "  df[i:i+1]['category']=pred\n",
            "<ipython-input-77-50b2471cd142>:13: SettingWithCopyWarning: \n",
            "A value is trying to be set on a copy of a slice from a DataFrame.\n",
            "Try using .loc[row_indexer,col_indexer] = value instead\n",
            "\n",
            "See the caveats in the documentation: https://pandas.pydata.org/pandas-docs/stable/user_guide/indexing.html#returning-a-view-versus-a-copy\n",
            "  df[i:i+1]['category']=pred\n",
            "<ipython-input-77-50b2471cd142>:13: SettingWithCopyWarning: \n",
            "A value is trying to be set on a copy of a slice from a DataFrame.\n",
            "Try using .loc[row_indexer,col_indexer] = value instead\n",
            "\n",
            "See the caveats in the documentation: https://pandas.pydata.org/pandas-docs/stable/user_guide/indexing.html#returning-a-view-versus-a-copy\n",
            "  df[i:i+1]['category']=pred\n",
            "<ipython-input-77-50b2471cd142>:13: SettingWithCopyWarning: \n",
            "A value is trying to be set on a copy of a slice from a DataFrame.\n",
            "Try using .loc[row_indexer,col_indexer] = value instead\n",
            "\n",
            "See the caveats in the documentation: https://pandas.pydata.org/pandas-docs/stable/user_guide/indexing.html#returning-a-view-versus-a-copy\n",
            "  df[i:i+1]['category']=pred\n",
            "<ipython-input-77-50b2471cd142>:13: SettingWithCopyWarning: \n",
            "A value is trying to be set on a copy of a slice from a DataFrame.\n",
            "Try using .loc[row_indexer,col_indexer] = value instead\n",
            "\n",
            "See the caveats in the documentation: https://pandas.pydata.org/pandas-docs/stable/user_guide/indexing.html#returning-a-view-versus-a-copy\n",
            "  df[i:i+1]['category']=pred\n",
            "<ipython-input-77-50b2471cd142>:13: SettingWithCopyWarning: \n",
            "A value is trying to be set on a copy of a slice from a DataFrame.\n",
            "Try using .loc[row_indexer,col_indexer] = value instead\n",
            "\n",
            "See the caveats in the documentation: https://pandas.pydata.org/pandas-docs/stable/user_guide/indexing.html#returning-a-view-versus-a-copy\n",
            "  df[i:i+1]['category']=pred\n",
            "<ipython-input-77-50b2471cd142>:13: SettingWithCopyWarning: \n",
            "A value is trying to be set on a copy of a slice from a DataFrame.\n",
            "Try using .loc[row_indexer,col_indexer] = value instead\n",
            "\n",
            "See the caveats in the documentation: https://pandas.pydata.org/pandas-docs/stable/user_guide/indexing.html#returning-a-view-versus-a-copy\n",
            "  df[i:i+1]['category']=pred\n",
            "<ipython-input-77-50b2471cd142>:13: SettingWithCopyWarning: \n",
            "A value is trying to be set on a copy of a slice from a DataFrame.\n",
            "Try using .loc[row_indexer,col_indexer] = value instead\n",
            "\n",
            "See the caveats in the documentation: https://pandas.pydata.org/pandas-docs/stable/user_guide/indexing.html#returning-a-view-versus-a-copy\n",
            "  df[i:i+1]['category']=pred\n",
            "<ipython-input-77-50b2471cd142>:13: SettingWithCopyWarning: \n",
            "A value is trying to be set on a copy of a slice from a DataFrame.\n",
            "Try using .loc[row_indexer,col_indexer] = value instead\n",
            "\n",
            "See the caveats in the documentation: https://pandas.pydata.org/pandas-docs/stable/user_guide/indexing.html#returning-a-view-versus-a-copy\n",
            "  df[i:i+1]['category']=pred\n",
            "<ipython-input-77-50b2471cd142>:13: SettingWithCopyWarning: \n",
            "A value is trying to be set on a copy of a slice from a DataFrame.\n",
            "Try using .loc[row_indexer,col_indexer] = value instead\n",
            "\n",
            "See the caveats in the documentation: https://pandas.pydata.org/pandas-docs/stable/user_guide/indexing.html#returning-a-view-versus-a-copy\n",
            "  df[i:i+1]['category']=pred\n",
            "<ipython-input-77-50b2471cd142>:13: SettingWithCopyWarning: \n",
            "A value is trying to be set on a copy of a slice from a DataFrame.\n",
            "Try using .loc[row_indexer,col_indexer] = value instead\n",
            "\n",
            "See the caveats in the documentation: https://pandas.pydata.org/pandas-docs/stable/user_guide/indexing.html#returning-a-view-versus-a-copy\n",
            "  df[i:i+1]['category']=pred\n",
            "<ipython-input-77-50b2471cd142>:13: SettingWithCopyWarning: \n",
            "A value is trying to be set on a copy of a slice from a DataFrame.\n",
            "Try using .loc[row_indexer,col_indexer] = value instead\n",
            "\n",
            "See the caveats in the documentation: https://pandas.pydata.org/pandas-docs/stable/user_guide/indexing.html#returning-a-view-versus-a-copy\n",
            "  df[i:i+1]['category']=pred\n"
          ]
        },
        {
          "output_type": "stream",
          "name": "stdout",
          "text": [
            "50    politics\n",
            "Name: category, dtype: object\n",
            "51    tech\n",
            "Name: category, dtype: object\n",
            "52    tech\n",
            "Name: category, dtype: object\n",
            "53    entertainment\n",
            "Name: category, dtype: object\n",
            "54    politics\n",
            "Name: category, dtype: object\n",
            "55    business\n",
            "Name: category, dtype: object\n",
            "56    business\n",
            "Name: category, dtype: object\n",
            "57    tech\n",
            "Name: category, dtype: object\n",
            "58    politics\n",
            "Name: category, dtype: object\n",
            "59    politics\n",
            "Name: category, dtype: object\n",
            "60    politics\n",
            "Name: category, dtype: object\n",
            "61    tech\n",
            "Name: category, dtype: object\n",
            "62    tech\n",
            "Name: category, dtype: object\n",
            "63    politics\n",
            "Name: category, dtype: object\n"
          ]
        },
        {
          "output_type": "stream",
          "name": "stderr",
          "text": [
            "<ipython-input-77-50b2471cd142>:13: SettingWithCopyWarning: \n",
            "A value is trying to be set on a copy of a slice from a DataFrame.\n",
            "Try using .loc[row_indexer,col_indexer] = value instead\n",
            "\n",
            "See the caveats in the documentation: https://pandas.pydata.org/pandas-docs/stable/user_guide/indexing.html#returning-a-view-versus-a-copy\n",
            "  df[i:i+1]['category']=pred\n",
            "<ipython-input-77-50b2471cd142>:13: SettingWithCopyWarning: \n",
            "A value is trying to be set on a copy of a slice from a DataFrame.\n",
            "Try using .loc[row_indexer,col_indexer] = value instead\n",
            "\n",
            "See the caveats in the documentation: https://pandas.pydata.org/pandas-docs/stable/user_guide/indexing.html#returning-a-view-versus-a-copy\n",
            "  df[i:i+1]['category']=pred\n",
            "<ipython-input-77-50b2471cd142>:13: SettingWithCopyWarning: \n",
            "A value is trying to be set on a copy of a slice from a DataFrame.\n",
            "Try using .loc[row_indexer,col_indexer] = value instead\n",
            "\n",
            "See the caveats in the documentation: https://pandas.pydata.org/pandas-docs/stable/user_guide/indexing.html#returning-a-view-versus-a-copy\n",
            "  df[i:i+1]['category']=pred\n",
            "<ipython-input-77-50b2471cd142>:13: SettingWithCopyWarning: \n",
            "A value is trying to be set on a copy of a slice from a DataFrame.\n",
            "Try using .loc[row_indexer,col_indexer] = value instead\n",
            "\n",
            "See the caveats in the documentation: https://pandas.pydata.org/pandas-docs/stable/user_guide/indexing.html#returning-a-view-versus-a-copy\n",
            "  df[i:i+1]['category']=pred\n",
            "<ipython-input-77-50b2471cd142>:13: SettingWithCopyWarning: \n",
            "A value is trying to be set on a copy of a slice from a DataFrame.\n",
            "Try using .loc[row_indexer,col_indexer] = value instead\n",
            "\n",
            "See the caveats in the documentation: https://pandas.pydata.org/pandas-docs/stable/user_guide/indexing.html#returning-a-view-versus-a-copy\n",
            "  df[i:i+1]['category']=pred\n",
            "<ipython-input-77-50b2471cd142>:13: SettingWithCopyWarning: \n",
            "A value is trying to be set on a copy of a slice from a DataFrame.\n",
            "Try using .loc[row_indexer,col_indexer] = value instead\n",
            "\n",
            "See the caveats in the documentation: https://pandas.pydata.org/pandas-docs/stable/user_guide/indexing.html#returning-a-view-versus-a-copy\n",
            "  df[i:i+1]['category']=pred\n",
            "<ipython-input-77-50b2471cd142>:13: SettingWithCopyWarning: \n",
            "A value is trying to be set on a copy of a slice from a DataFrame.\n",
            "Try using .loc[row_indexer,col_indexer] = value instead\n",
            "\n",
            "See the caveats in the documentation: https://pandas.pydata.org/pandas-docs/stable/user_guide/indexing.html#returning-a-view-versus-a-copy\n",
            "  df[i:i+1]['category']=pred\n",
            "<ipython-input-77-50b2471cd142>:13: SettingWithCopyWarning: \n",
            "A value is trying to be set on a copy of a slice from a DataFrame.\n",
            "Try using .loc[row_indexer,col_indexer] = value instead\n",
            "\n",
            "See the caveats in the documentation: https://pandas.pydata.org/pandas-docs/stable/user_guide/indexing.html#returning-a-view-versus-a-copy\n",
            "  df[i:i+1]['category']=pred\n",
            "<ipython-input-77-50b2471cd142>:13: SettingWithCopyWarning: \n",
            "A value is trying to be set on a copy of a slice from a DataFrame.\n",
            "Try using .loc[row_indexer,col_indexer] = value instead\n",
            "\n",
            "See the caveats in the documentation: https://pandas.pydata.org/pandas-docs/stable/user_guide/indexing.html#returning-a-view-versus-a-copy\n",
            "  df[i:i+1]['category']=pred\n",
            "<ipython-input-77-50b2471cd142>:13: SettingWithCopyWarning: \n",
            "A value is trying to be set on a copy of a slice from a DataFrame.\n",
            "Try using .loc[row_indexer,col_indexer] = value instead\n",
            "\n",
            "See the caveats in the documentation: https://pandas.pydata.org/pandas-docs/stable/user_guide/indexing.html#returning-a-view-versus-a-copy\n",
            "  df[i:i+1]['category']=pred\n",
            "<ipython-input-77-50b2471cd142>:13: SettingWithCopyWarning: \n",
            "A value is trying to be set on a copy of a slice from a DataFrame.\n",
            "Try using .loc[row_indexer,col_indexer] = value instead\n",
            "\n",
            "See the caveats in the documentation: https://pandas.pydata.org/pandas-docs/stable/user_guide/indexing.html#returning-a-view-versus-a-copy\n",
            "  df[i:i+1]['category']=pred\n",
            "<ipython-input-77-50b2471cd142>:13: SettingWithCopyWarning: \n",
            "A value is trying to be set on a copy of a slice from a DataFrame.\n",
            "Try using .loc[row_indexer,col_indexer] = value instead\n",
            "\n",
            "See the caveats in the documentation: https://pandas.pydata.org/pandas-docs/stable/user_guide/indexing.html#returning-a-view-versus-a-copy\n",
            "  df[i:i+1]['category']=pred\n",
            "<ipython-input-77-50b2471cd142>:13: SettingWithCopyWarning: \n",
            "A value is trying to be set on a copy of a slice from a DataFrame.\n",
            "Try using .loc[row_indexer,col_indexer] = value instead\n",
            "\n",
            "See the caveats in the documentation: https://pandas.pydata.org/pandas-docs/stable/user_guide/indexing.html#returning-a-view-versus-a-copy\n",
            "  df[i:i+1]['category']=pred\n"
          ]
        }
      ],
      "source": [
        "#first clean testing data as we did with the training data\n",
        "for i in range(0,len(df)):\n",
        "  test = df[i:i+1].copy()\n",
        "  clean_text(test, 'summary')\n",
        "  tfidvec_test = tfidvec.transform(test['clean_text'])\n",
        "  yhat_test = predict(nmf_model.transform(tfidvec_test))\n",
        "  test_predictions = pd.DataFrame(columns=['id', 'category', 'yhat'])\n",
        "  test_predictions['id'] = test['id']\n",
        "  test_predictions['yhat'] = yhat_test\n",
        "  test_predictions['category'] = test_predictions['yhat'].apply(lambda i: label_dict[i])\n",
        "\n",
        "  pred=test_predictions['category']\n",
        "  df[i:i+1]['category']=pred\n",
        "  print(pred)"
      ]
    },
    {
      "cell_type": "code",
      "source": [
        "\n",
        "clean_text(df, 'summary')\n",
        "tfidvec_test = tfidvec.transform(df['clean_text'])\n",
        "yhat_test = predict(nmf_model.transform(tfidvec_test))\n",
        "#create a dataframe to store prediction outcomes\n",
        "test_predictions = pd.DataFrame(columns=['id', 'category', 'yhat'])\n",
        "test_predictions['id'] = df['id']\n",
        "test_predictions['yhat'] = yhat_test\n",
        "test_predictions['category'] = test_predictions['yhat'].apply(lambda i: label_dict[i])\n",
        "\n",
        "pred=test_predictions['category']\n",
        "df['category']=pred\n",
        "print(pred)"
      ],
      "metadata": {
        "colab": {
          "base_uri": "https://localhost:8080/"
        },
        "id": "TRYReqJ_UQQd",
        "outputId": "c8fd4e1d-5437-4d4b-95e2-fe5d94e86dd7"
      },
      "execution_count": null,
      "outputs": [
        {
          "output_type": "stream",
          "name": "stdout",
          "text": [
            "0     politics\n",
            "1     politics\n",
            "2     politics\n",
            "3     politics\n",
            "4     politics\n",
            "        ...   \n",
            "59    politics\n",
            "60    politics\n",
            "61        tech\n",
            "62        tech\n",
            "63    politics\n",
            "Name: category, Length: 64, dtype: object\n"
          ]
        }
      ]
    },
    {
      "cell_type": "code",
      "source": [
        "test = df.copy()"
      ],
      "metadata": {
        "id": "A5R8AtoISBIx"
      },
      "execution_count": null,
      "outputs": []
    },
    {
      "cell_type": "code",
      "source": [
        "clean_text(test, 'summary')\n",
        "tfidvec_test = tfidvec.transform(test['clean_text'])\n",
        "yhat_test = predict(nmf_model.transform(tfidvec_test))\n",
        "#create a dataframe to save predicted outcomes\n",
        "test_predictions = pd.DataFrame(columns=['id', 'category', 'yhat'])\n",
        "test_predictions['id'] = test['id']\n",
        "test_predictions['yhat'] = yhat_test\n",
        "test_predictions['category'] = test_predictions['yhat'].apply(lambda i: label_dict[i])\n",
        "\n",
        "\n",
        "pred=test_predictions['category']\n",
        "df.iloc[i]['category']=pred\n",
        "print(pred)"
      ],
      "metadata": {
        "colab": {
          "base_uri": "https://localhost:8080/"
        },
        "id": "o4xHmQb1Rb5I",
        "outputId": "e64a1f56-0db3-41a6-9dfb-7ee15d4c3759"
      },
      "execution_count": null,
      "outputs": [
        {
          "output_type": "stream",
          "name": "stdout",
          "text": [
            "0     politics\n",
            "1     politics\n",
            "2     politics\n",
            "3     politics\n",
            "4     politics\n",
            "        ...   \n",
            "59    politics\n",
            "60    politics\n",
            "61        tech\n",
            "62        tech\n",
            "63    politics\n",
            "Name: category, Length: 64, dtype: object\n"
          ]
        },
        {
          "output_type": "stream",
          "name": "stderr",
          "text": [
            "/usr/local/lib/python3.8/dist-packages/pandas/core/series.py:1056: SettingWithCopyWarning: \n",
            "A value is trying to be set on a copy of a slice from a DataFrame\n",
            "\n",
            "See the caveats in the documentation: https://pandas.pydata.org/pandas-docs/stable/user_guide/indexing.html#returning-a-view-versus-a-copy\n",
            "  cacher_needs_updating = self._check_is_chained_assignment_possible()\n"
          ]
        }
      ]
    },
    {
      "cell_type": "code",
      "source": [
        "pred"
      ],
      "metadata": {
        "colab": {
          "base_uri": "https://localhost:8080/"
        },
        "id": "HEsjQyGcLDR5",
        "outputId": "3dc45dd5-f549-4550-fac8-00ebe89b8677"
      },
      "execution_count": null,
      "outputs": [
        {
          "output_type": "execute_result",
          "data": {
            "text/plain": [
              "0     politics\n",
              "1     politics\n",
              "2     politics\n",
              "3     politics\n",
              "4     politics\n",
              "        ...   \n",
              "59    politics\n",
              "60    politics\n",
              "61        tech\n",
              "62        tech\n",
              "63    politics\n",
              "Name: category, Length: 64, dtype: object"
            ]
          },
          "metadata": {},
          "execution_count": 81
        }
      ]
    },
    {
      "cell_type": "markdown",
      "metadata": {
        "id": "L_oot5FNSNEM"
      },
      "source": [
        "Test_Predictions variable below has the category that is predicted\n"
      ]
    },
    {
      "cell_type": "markdown",
      "source": [
        "It is found that the accuracy for test data predictions was around **96.32%** using NMF with TF-IDF vectorizer"
      ],
      "metadata": {
        "id": "-YtcGOV5-DEB"
      }
    },
    {
      "cell_type": "markdown",
      "source": [
        "Saving the test predictions to a csv file"
      ],
      "metadata": {
        "id": "i-iCWVOS-5OO"
      }
    },
    {
      "cell_type": "code",
      "execution_count": null,
      "metadata": {
        "id": "LcfepE34ZY3r"
      },
      "outputs": [],
      "source": [
        "#save and submit test dataframe\n",
        "try: \n",
        "    df.to_csv('classification(NMF).csv', index=False)\n",
        "except: \n",
        "    pass"
      ]
    },
    {
      "cell_type": "markdown",
      "metadata": {
        "id": "hsIBPF6nTAYI"
      },
      "source": [
        "# 2nd model for classification : K-Means Clustering\n",
        "\n",
        "\n"
      ]
    },
    {
      "cell_type": "markdown",
      "source": [
        "## Importing Data"
      ],
      "metadata": {
        "id": "VBBZy1B6FJzk"
      }
    },
    {
      "cell_type": "code",
      "execution_count": null,
      "metadata": {
        "id": "R31vUCLAZj28"
      },
      "outputs": [],
      "source": [
        "#import data\n",
        "train = pd.read_csv(train_path) \n",
        "test = pd.read_csv(projDataframe_path)"
      ]
    },
    {
      "cell_type": "markdown",
      "source": [
        "## Data Cleaning & Creating Vectorizer and K-means Model"
      ],
      "metadata": {
        "id": "updcglWKFPdS"
      }
    },
    {
      "cell_type": "code",
      "execution_count": null,
      "metadata": {
        "id": "u_lQehX-Zn_P",
        "colab": {
          "base_uri": "https://localhost:8080/"
        },
        "outputId": "8d2319a8-3fc7-4624-d22f-d765f14f4e0c"
      },
      "outputs": [
        {
          "output_type": "stream",
          "name": "stdout",
          "text": [
            "accuracy= 0.9369127516778524\n",
            "(3, 1, 0, 2, 4) \n",
            "\n",
            "3:  business\n",
            "1:  tech\n",
            "0:  entertainment\n",
            "2:  sport\n",
            "4:  politics\n"
          ]
        }
      ],
      "source": [
        "#clean data\n",
        "clean_text(train, 'Text')\n",
        "\n",
        "#split data into X and y\n",
        "y_train = train['Category'].values\n",
        "X_train = train['clean_text'].values\n",
        "\n",
        "#create new vectorizer for supervised learning model\n",
        "tfidfvec_supervised = TfidfVectorizer(min_df = 2,\n",
        "                          max_df = 0.95,\n",
        "                          norm = 'l2',\n",
        "                          stop_words = 'english')\n",
        "tfSuper_train = tfidfvec_supervised.fit_transform(X_train) \n",
        "\n",
        "#create KMeans Model and train\n",
        "kmeans = KMeans(n_clusters = 5, \n",
        "                init = 'k-means++', \n",
        "                algorithm = 'full', \n",
        "                random_state = 101)\n",
        "yhat_train_super = kmeans.fit_predict(tfSuper_train)\n",
        "\n",
        "#get accuracy\n",
        "y_train_df = pd.DataFrame(y_train, columns=['Category'])\n",
        "label_order, accuracy = label_permute(y_train_df, yhat_train_super)\n",
        "print('accuracy=', accuracy)\n",
        "print(label_order, '\\n')\n",
        "\n",
        "#show label order\n",
        "label_dict = {3:'business', 1:'tech', 4:'politics', 2:'sport', 0:'entertainment'}\n",
        "for i in range(5):\n",
        "    print(f'{label_order[i]}:  {label_dict[label_order[i]]}')"
      ]
    },
    {
      "cell_type": "markdown",
      "source": [
        "Training accuracy of K-means clustering with TF-IDF is found to be **93.69%**"
      ],
      "metadata": {
        "id": "WvGG7QyX_UAP"
      }
    },
    {
      "cell_type": "markdown",
      "source": [
        "# Testing data with K-means & TF-IDF"
      ],
      "metadata": {
        "id": "Qa_NM5noFaz2"
      }
    },
    {
      "cell_type": "code",
      "source": [
        "#first clean testing data as we did with the training data\n",
        "\n",
        "clean_text(test, 'summary')\n",
        "tfSuper_test = tfidfvec_supervised.transform(test['clean_text'].values)\n",
        "tfidvec_test = tfidvec.transform(test['clean_text'])\n",
        "yhat_test = kmeans.predict(tfSuper_test)\n",
        "test_predictions = pd.DataFrame(columns=['id', 'category', 'yhat'])\n",
        "test_predictions['id'] = test['id']\n",
        "test_predictions['yhat'] = yhat_test\n",
        "test_predictions['category'] = test_predictions['yhat'].apply(lambda i: label_dict[i])\n",
        "pred=test_predictions['category']\n",
        "df['category']=pred"
      ],
      "metadata": {
        "id": "LRL0hri5XLZJ"
      },
      "execution_count": null,
      "outputs": []
    },
    {
      "cell_type": "markdown",
      "source": [
        "Saving the test dataset predictions to a csv file"
      ],
      "metadata": {
        "id": "48ONANSJ_7Ru"
      }
    },
    {
      "cell_type": "code",
      "source": [
        "#save and submit test dataframe\n",
        "try: \n",
        "    df.to_csv('classification(KMeans).csv', index=False)\n",
        "except: \n",
        "    pass"
      ],
      "metadata": {
        "id": "8KqWTK8eXjX2"
      },
      "execution_count": null,
      "outputs": []
    },
    {
      "cell_type": "markdown",
      "source": [
        "It is found out that the testing accuracy of K-means clustering with TF-IDF is only around **63%**"
      ],
      "metadata": {
        "id": "1ZZjwD-a_phY"
      }
    },
    {
      "cell_type": "markdown",
      "source": [
        "The low accuracy with K-means clustering supervised learning model could be due to overfitting of the data."
      ],
      "metadata": {
        "id": "GBRTgXf8ACzF"
      }
    }
  ]
}